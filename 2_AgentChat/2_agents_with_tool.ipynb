{
 "cells": [
  {
   "cell_type": "code",
   "execution_count": null,
   "id": "baab330f",
   "metadata": {},
   "outputs": [],
   "source": [
    "1:33"
   ]
  },
  {
   "cell_type": "code",
   "execution_count": null,
   "id": "2a37de96",
   "metadata": {},
   "outputs": [],
   "source": []
  },
  {
   "cell_type": "code",
   "execution_count": null,
   "id": "e3ec0a35",
   "metadata": {},
   "outputs": [],
   "source": []
  },
  {
   "cell_type": "code",
   "execution_count": null,
   "id": "8dc8b7fa",
   "metadata": {},
   "outputs": [],
   "source": []
  }
 ],
 "metadata": {
  "language_info": {
   "name": "python"
  }
 },
 "nbformat": 4,
 "nbformat_minor": 5
}
