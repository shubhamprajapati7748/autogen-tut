{
 "cells": [
  {
   "cell_type": "code",
   "execution_count": 3,
   "id": "baab330f",
   "metadata": {},
   "outputs": [],
   "source": [
    "from autogen_agentchat.agents import AssistantAgent \n",
    "from autogen_ext.models.openai import OpenAIChatCompletionClient\n",
    "\n",
    "from dotenv import load_dotenv\n",
    "import os   \n",
    "load_dotenv()\n",
    "\n",
    "api_key = os.getenv(\"GEMINI_API_KEY\")"
   ]
  },
  {
   "cell_type": "code",
   "execution_count": 4,
   "id": "bd0d2a00",
   "metadata": {},
   "outputs": [],
   "source": [
    "model_client = OpenAIChatCompletionClient(\n",
    "    model = \"gemini-1.5-flash-8b\",\n",
    "    api_key = api_key\n",
    ")"
   ]
  },
  {
   "cell_type": "code",
   "execution_count": null,
   "id": "2a37de96",
   "metadata": {},
   "outputs": [
    {
     "data": {
      "text/plain": [
       "'The weather in Delhi is sunny with a temperature of 25°C.'"
      ]
     },
     "execution_count": 5,
     "metadata": {},
     "output_type": "execute_result"
    }
   ],
   "source": [
    "def get_weather(city:str)->str:\n",
    "    # Simulate a weather API call\n",
    "    return f\"The weather in {city} is sunny with a temperature of 25°C.\"\n",
    "\n",
    "weather_agent = AssistantAgent(\n",
    "    name='weather_agent',\n",
    "    model_client=model_client,\n",
    "    description=\"You are a weather assistant that provides accurate weather information.\",\n",
    "    system_message=\"You are a helpful assistant that provides accurate weather information by using the get_weather.\",\n",
    "    tools=[get_weather]\n",
    ")\n",
    "\n",
    "result = await weather_agent.run(task=\"What is the weather in Delhi?\")\n",
    "result.messages[-1].content"
   ]
  }
 ],
 "metadata": {
  "kernelspec": {
   "display_name": "autogen-env",
   "language": "python",
   "name": "python3"
  },
  "language_info": {
   "codemirror_mode": {
    "name": "ipython",
    "version": 3
   },
   "file_extension": ".py",
   "mimetype": "text/x-python",
   "name": "python",
   "nbconvert_exporter": "python",
   "pygments_lexer": "ipython3",
   "version": "3.12.4"
  }
 },
 "nbformat": 4,
 "nbformat_minor": 5
}
