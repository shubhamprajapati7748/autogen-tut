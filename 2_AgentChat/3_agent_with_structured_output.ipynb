{
 "cells": [
  {
   "cell_type": "code",
   "execution_count": 1,
   "id": "271db7db",
   "metadata": {},
   "outputs": [],
   "source": [
    "from autogen_agentchat.agents import AssistantAgent\n",
    "from autogen_ext.models.openai import OpenAIChatCompletionClient\n",
    "\n",
    "from dotenv import load_dotenv \n",
    "import os \n",
    "load_dotenv()\n",
    "\n",
    "api_key = os.getenv(\"GEMINI_API_KEY\")"
   ]
  },
  {
   "cell_type": "code",
   "execution_count": 8,
   "id": "f360ef3c",
   "metadata": {},
   "outputs": [],
   "source": [
    "from pydantic import BaseModel\n",
    "\n",
    "class Information(BaseModel):\n",
    "    fact:str\n",
    "    source:str"
   ]
  },
  {
   "cell_type": "code",
   "execution_count": 9,
   "id": "b0fd3d59",
   "metadata": {},
   "outputs": [],
   "source": [
    "model_client = OpenAIChatCompletionClient(\n",
    "    model=\"gemini-1.5-flash-8b\",\n",
    "    api_key=api_key,\n",
    ")\n",
    "\n",
    "structured_output_agent = AssistantAgent(\n",
    "    name='assistant',\n",
    "    model_client=model_client,\n",
    "    description=\"You are a helpful assistant that provides accurate information about history in Structure Response.\",\n",
    "    output_content_type=Information,\n",
    "    system_message=\"You are a helpful assistant that provides accurate information about history.\"\n",
    ")"
   ]
  },
  {
   "cell_type": "code",
   "execution_count": 10,
   "id": "d1fa9f51",
   "metadata": {},
   "outputs": [
    {
     "data": {
      "text/plain": [
       "TaskResult(messages=[TextMessage(source='user', models_usage=None, metadata={}, content='What is the capital of India?', type='TextMessage'), StructuredMessage[Information](source='assistant', models_usage=RequestUsage(prompt_tokens=28, completion_tokens=13), metadata={}, content=Information(fact='New Delhi', source='Wikipedia'), format_string=None, type='StructuredMessage[Information]')], stop_reason=None)"
      ]
     },
     "execution_count": 10,
     "metadata": {},
     "output_type": "execute_result"
    }
   ],
   "source": [
    "result = await structured_output_agent.run(task = \"What is the capital of India?\")\n",
    "result"
   ]
  },
  {
   "cell_type": "code",
   "execution_count": 12,
   "id": "b80f111e",
   "metadata": {},
   "outputs": [
    {
     "name": "stdout",
     "output_type": "stream",
     "text": [
      "fact='New Delhi' source='Wikipedia'\n"
     ]
    }
   ],
   "source": [
    "print(result.messages[-1].content)"
   ]
  },
  {
   "cell_type": "code",
   "execution_count": 13,
   "id": "16d6853a",
   "metadata": {},
   "outputs": [
    {
     "data": {
      "text/plain": [
       "<bound method UnboundedChatCompletionContext.get_messages of <autogen_core.model_context._unbounded_chat_completion_context.UnboundedChatCompletionContext object at 0x0000013E6C436D80>>"
      ]
     },
     "execution_count": 13,
     "metadata": {},
     "output_type": "execute_result"
    }
   ],
   "source": [
    "structured_output_agent.model_context.get_messages"
   ]
  },
  {
   "cell_type": "code",
   "execution_count": null,
   "id": "60e96c2c",
   "metadata": {},
   "outputs": [],
   "source": []
  },
  {
   "cell_type": "code",
   "execution_count": null,
   "id": "33774fd1",
   "metadata": {},
   "outputs": [],
   "source": []
  },
  {
   "cell_type": "code",
   "execution_count": null,
   "id": "5b62ef60",
   "metadata": {},
   "outputs": [],
   "source": []
  }
 ],
 "metadata": {
  "kernelspec": {
   "display_name": "autogen-env",
   "language": "python",
   "name": "python3"
  },
  "language_info": {
   "codemirror_mode": {
    "name": "ipython",
    "version": 3
   },
   "file_extension": ".py",
   "mimetype": "text/x-python",
   "name": "python",
   "nbconvert_exporter": "python",
   "pygments_lexer": "ipython3",
   "version": "3.12.4"
  }
 },
 "nbformat": 4,
 "nbformat_minor": 5
}
