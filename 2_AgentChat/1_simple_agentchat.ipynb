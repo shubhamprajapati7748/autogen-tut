{
 "cells": [
  {
   "cell_type": "code",
   "execution_count": 2,
   "id": "e048dcb6",
   "metadata": {},
   "outputs": [],
   "source": [
    "from autogen_agentchat.agents import AssistantAgent \n",
    "from autogen_ext.models.openai import OpenAIChatCompletionClient\n",
    "\n",
    "from dotenv import load_dotenv\n",
    "import os\n",
    "load_dotenv() \n",
    "\n",
    "api_key = os.getenv(\"GEMINI_API_KEY\")"
   ]
  },
  {
   "cell_type": "code",
   "execution_count": 7,
   "id": "e4492106",
   "metadata": {},
   "outputs": [],
   "source": [
    "model_client = OpenAIChatCompletionClient(\n",
    "    model=\"gemini-1.5-flash-8b\",\n",
    "    api_key=api_key,\n",
    ")\n",
    "\n",
    "assistant = AssistantAgent(name=\"Gemini_Assistant\", model_client=model_client)"
   ]
  },
  {
   "cell_type": "code",
   "execution_count": 10,
   "id": "767e0ec7",
   "metadata": {},
   "outputs": [
    {
     "data": {
      "text/plain": [
       "TaskResult(messages=[TextMessage(source='user', models_usage=None, metadata={}, content='What is the capital of India?', type='TextMessage'), TextMessage(source='Gemini_Assistant', models_usage=RequestUsage(prompt_tokens=31, completion_tokens=6), metadata={}, content='New Delhi\\n\\nTERMINATE\\n', type='TextMessage')], stop_reason=None)"
      ]
     },
     "execution_count": 10,
     "metadata": {},
     "output_type": "execute_result"
    }
   ],
   "source": [
    "result = await assistant.run(task = \"What is the capital of India?\")\n",
    "result"
   ]
  },
  {
   "cell_type": "code",
   "execution_count": 12,
   "id": "dcdeaf08",
   "metadata": {},
   "outputs": [],
   "source": [
    "history_assistant = AssistantAgent(name=\"History_Assistant\", \n",
    "                                   model_client=model_client, \n",
    "                                   description=\"An assistant specialized in history.\",\n",
    "                                   system_message=\"You are a history expert. Please answer questions related to historical events, figures, and timelines.\"\n",
    "                                   )"
   ]
  },
  {
   "cell_type": "code",
   "execution_count": 15,
   "id": "4da0d059",
   "metadata": {},
   "outputs": [
    {
     "data": {
      "text/plain": [
       "'India\\'s history is incredibly rich and complex, spanning millennia.  A single answer can\\'t do it justice, but here\\'s a broad overview highlighting key periods and themes:\\n\\n**Early Civilizations (c. 3300-500 BCE):**  The Indus Valley Civilization emerged in the northwestern region, exhibiting remarkable urban planning and sophisticated infrastructure.  Later, the Vedic Period saw the arrival and settlement of Indo-Aryans, bringing with them the foundations of Hinduism and a complex social hierarchy (the caste system).  This period saw the development of early religious texts like the Vedas and the formation of epic poems like the Ramayana and Mahabharata.\\n\\n**Classical Period (c. 500 BCE – 1200 CE):**  This era saw the rise of major religious and philosophical traditions, including Jainism and Buddhism, which challenged the existing Vedic order.  The Mauryan Empire (322-185 BCE), under Ashoka, unified much of the Indian subcontinent and ushered in a period of significant cultural and administrative advancements.  Later, the Gupta Empire (320-550 CE) is often hailed as a \"Golden Age,\" characterized by flourishing arts, sciences (including mathematics and astronomy), and literature.  Numerous smaller kingdoms and empires existed alongside these larger entities, reflecting the diverse political landscape.\\n\\n**Medieval Period (c. 1200-1526 CE):**  The arrival of Islamic invaders marked a significant turning point. The Delhi Sultanate, followed by various other Muslim empires, brought new cultural influences, administrative systems, and architectural styles.  However, periods of resistance and conflict with Hindu kingdoms and local rulers also characterized this period.\\n\\n**Mughal Empire (c. 1526-1857 CE):**  The Mughal Empire, established by Babur, brought a new level of centralized rule and introduced Persian and Islamic cultural elements.  While marked by significant political and military conflicts, the Mughals also patronized arts and architecture, creating magnificent structures like the Taj Mahal.\\n\\n**Colonial Period (c. 1757-1947 CE):**  The British East India Company gradually expanded its influence, eventually establishing control over most of India.  The British Raj brought significant changes, including infrastructure development (though often for British benefit), economic exploitation, and the rise of Indian nationalism.  The Sepoy Mutiny of 1857, and later movements led by figures like Mahatma Gandhi, highlighted the growing resistance to British rule and ultimately led to India\\'s independence.\\n\\n**Post-Independence (1947-Present):**  India\\'s independence was marked by the partition into India and Pakistan, leading to immense violence and displacement.  Since then, India has faced challenges in economic development, poverty, social inequalities, and regional conflicts.  Despite these difficulties, it has also witnessed significant advancements in various sectors, emerging as a major global player.\\n\\nThis is a very broad overview.  Each of these periods contains numerous complex events, individuals, and sub-narratives.  If you have specific aspects of Indian history you\\'d like to explore further, please ask!\\n'"
      ]
     },
     "execution_count": 15,
     "metadata": {},
     "output_type": "execute_result"
    }
   ],
   "source": [
    "result = await history_assistant.run(task = \"What is the history of india?\")\n",
    "result.messages[-1].content"
   ]
  }
 ],
 "metadata": {
  "kernelspec": {
   "display_name": "autogen-env",
   "language": "python",
   "name": "python3"
  },
  "language_info": {
   "codemirror_mode": {
    "name": "ipython",
    "version": 3
   },
   "file_extension": ".py",
   "mimetype": "text/x-python",
   "name": "python",
   "nbconvert_exporter": "python",
   "pygments_lexer": "ipython3",
   "version": "3.12.4"
  }
 },
 "nbformat": 4,
 "nbformat_minor": 5
}
